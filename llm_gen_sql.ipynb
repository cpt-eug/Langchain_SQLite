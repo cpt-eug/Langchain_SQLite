{
 "cells": [
  {
   "cell_type": "markdown",
   "metadata": {},
   "source": [
    "## Using LLM to create a SQL Query using Few Shot Templates"
   ]
  },
  {
   "cell_type": "code",
   "execution_count": 1,
   "metadata": {},
   "outputs": [
    {
     "name": "stderr",
     "output_type": "stream",
     "text": [
      "d:\\DE Projects\\gpt_env\\lib\\site-packages\\tqdm\\auto.py:21: TqdmWarning: IProgress not found. Please update jupyter and ipywidgets. See https://ipywidgets.readthedocs.io/en/stable/user_install.html\n",
      "  from .autonotebook import tqdm as notebook_tqdm\n",
      "d:\\DE Projects\\gpt_env\\lib\\site-packages\\huggingface_hub\\utils\\_deprecation.py:127: FutureWarning: '__init__' (from 'huggingface_hub.inference_api') is deprecated and will be removed from version '1.0'. `InferenceApi` client is deprecated in favor of the more feature-complete `InferenceClient`. Check out this guide to learn how to convert your script to use it: https://huggingface.co/docs/huggingface_hub/guides/inference#legacy-inferenceapi-client.\n",
      "  warnings.warn(warning_message, FutureWarning)\n"
     ]
    }
   ],
   "source": [
    "from langchain.callbacks.streaming_stdout import StreamingStdOutCallbackHandler\n",
    "from langchain import HuggingFaceHub\n",
    "from langchain.sql_database import SQLDatabase\n",
    "from langchain_experimental.sql import SQLDatabaseChain\n",
    "from langchain.chains import LLMChain\n",
    "from langchain.prompts import PromptTemplate\n",
    "import sqlite3\n",
    "\n",
    "# loading environment variable\n",
    "from dotenv import load_dotenv\n",
    "load_dotenv()\n",
    "\n",
    "# defining llm and database\n",
    "#llm = HuggingFaceHub(repo_id='mistralai/Mistral-7B-Instruct-v0.1')\n",
    "llm = HuggingFaceHub(repo_id='tiiuae/falcon-7b-instruct')\n",
    "db = SQLDatabase.from_uri('sqlite:///dentist_test_db.sqlite')\n",
    "\n",
    "# Callbacks support token-wise streaming\n",
    "callbacks = [StreamingStdOutCallbackHandler()]"
   ]
  },
  {
   "cell_type": "code",
   "execution_count": 2,
   "metadata": {},
   "outputs": [],
   "source": [
    "examples_query = [\n",
    "        {\n",
    "            \"input\": \"How many clinics are open on Sunday?\",\n",
    "            \"sql_cmd\": \"SELECT COUNT(*) FROM dentists WHERE 'Sunday_start' IS NOT NULL;\",\n",
    "        },\n",
    "        {\n",
    "            \"input\": \"How many clinics are by appointment?\",\n",
    "            \"sql_cmd\": \"SELECT COUNT(*) FROM dentists WHERE by_appointment = 1\",\n",
    "        },\n",
    "        {\n",
    "            \"input\": \"How many clinics are open on Monday at 8:00am?\",\n",
    "            \"sql_cmd\": \"SELECT COUNT(*) FROM dentists WHERE Monday_start <= 8;\",\n",
    "        },\n",
    "        {\n",
    "            \"input\": \"How many dentists are open at 9:00 am in Caloocan on Monday?\",\n",
    "            \"sql_cmd\": \"SELECT COUNT(*) FROM dentists WHERE citytown LIKE '%caloocan%' OR province LIKE '%caloocan%' OR region LIKE '%caloocan%' AND Monday_start <= 9\",\n",
    "        },\n",
    "        {\n",
    "            \"input\": \"Give me 10 clinics in Manila\",\n",
    "            \"sql_cmd\": \"SELECT clinicname FROM dentists WHERE citytown LIKE '%manila%' or province LIKE'%manila%' or region LIKE '%manila%' LIMIT 10;\",\n",
    "         },\n",
    "        {\n",
    "            \"input\": \"Give me the contact number of clinic\",\n",
    "            \"sql_cmd\": \"SELECT contactnumber FROM dentists WHERE clinicname LIKE '%clinic%';\",\n",
    "        },\n",
    "        {\n",
    "            \"input\": \"What are clinics in Manila that is open on Tuesday\",\n",
    "            \"sql_cmd\": \"SELECT clinicname FROM dentists WHERE citytown LIKE '%manila%' or province LIKE'%manila%' or region LIKE '%manila%' AND Tuesday_start IS NOT NULL;\",\n",
    "         },\n",
    "]\n",
    "\n",
    "example_query_prompt = PromptTemplate(\n",
    "    input_variables=[\"input\", \"sql_cmd\"],\n",
    "    template=\"\\nQuestion: {input}\\nSQLQuery: {sql_cmd}\",\n",
    ")\n",
    "\n"
   ]
  },
  {
   "cell_type": "markdown",
   "metadata": {},
   "source": [
    "USING SIMPLE PROMPTS"
   ]
  },
  {
   "cell_type": "code",
   "execution_count": 12,
   "metadata": {},
   "outputs": [],
   "source": [
    "from langchain.prompts import ChatPromptTemplate\n",
    "\n",
    "prompt = ChatPromptTemplate.from_template(\"Answer {question}.\")\n",
    "model = llm\n",
    "chain = prompt | model"
   ]
  },
  {
   "cell_type": "code",
   "execution_count": 13,
   "metadata": {},
   "outputs": [
    {
     "data": {
      "text/plain": [
       "'\\nAnswer: The capital of Zimbabwe is Harare.'"
      ]
     },
     "execution_count": 13,
     "metadata": {},
     "output_type": "execute_result"
    }
   ],
   "source": [
    "chain.invoke({\"question\":\"What is the capital of Zimbabwe?\"})"
   ]
  },
  {
   "cell_type": "markdown",
   "metadata": {},
   "source": [
    "NATURAL LANGUAGE TO SQL"
   ]
  },
  {
   "cell_type": "code",
   "execution_count": 3,
   "metadata": {},
   "outputs": [],
   "source": [
    "from langchain.prompts import SemanticSimilarityExampleSelector\n",
    "from langchain.embeddings import HuggingFaceEmbeddings\n",
    "from langchain.vectorstores import Chroma\n",
    "\n",
    "embeddings = HuggingFaceEmbeddings()\n",
    "\n",
    "to_vectorize = [\" \".join(example.values()) for example in examples_query]\n",
    "\n",
    "vectorstore = Chroma.from_texts(to_vectorize, embeddings, metadatas=examples_query)\n",
    "\n",
    "example_selector = SemanticSimilarityExampleSelector(\n",
    "    vectorstore=vectorstore,\n",
    "    k=1,\n",
    ")"
   ]
  },
  {
   "cell_type": "code",
   "execution_count": 4,
   "metadata": {},
   "outputs": [],
   "source": [
    "### Feeding the current weekday and location as prompts\n",
    "from datetime import date\n",
    "import calendar\n",
    "\n",
    "curr_date = date.today()\n",
    "day_today = calendar.day_name[curr_date.weekday()]\n",
    "\n",
    "location = \"\" # use User's location\n"
   ]
  },
  {
   "cell_type": "code",
   "execution_count": 5,
   "metadata": {},
   "outputs": [
    {
     "name": "stdout",
     "output_type": "stream",
     "text": [
      "You are a SQLite expert. Given an input question, first create a syntactically correct SQLite query to run, then look at the results of the query and return the answer to the input question.\n",
      "Unless the user specifies in the question a specific number of examples to obtain, query for at most {top_k} results using the LIMIT clause as per SQLite. You can order the results to return the most informative data in the database.\n",
      "Never query for all columns from a table. You must query only the columns that are needed to answer the question. Wrap each column name in double quotes (\") to denote them as delimited identifiers.\n",
      "Pay attention to use only the column names you can see in the tables below. Be careful to not query for columns that do not exist. Also, pay attention to which column is in which table.\n",
      "Pay attention to use Monday, if the question involves \"today\". If the location is not specified use None in your query.\n",
      "\n",
      "Use the following format:\n",
      "\n",
      "Question: Question here\n",
      "SQLQuery: SQL Query to run\n",
      "\n"
     ]
    }
   ],
   "source": [
    "custom_sql_prompt = \"\"\"You are a SQLite expert. Given an input question, first create a syntactically correct SQLite query to run, then look at the results of the query and return the answer to the input question.\n",
    "Unless the user specifies in the question a specific number of examples to obtain, query for at most {top_k} results using the LIMIT clause as per SQLite. You can order the results to return the most informative data in the database.\n",
    "Never query for all columns from a table. You must query only the columns that are needed to answer the question. Wrap each column name in double quotes (\") to denote them as delimited identifiers.\n",
    "Pay attention to use only the column names you can see in the tables below. Be careful to not query for columns that do not exist. Also, pay attention to which column is in which table.\n",
    "Pay attention to use {day}, if the question involves \"today\". If the location is not specified use None in your query.\n",
    "\n",
    "Use the following format:\n",
    "\n",
    "Question: Question here\n",
    "SQLQuery: SQL Query to run\n",
    "\"\"\"\n",
    "\n",
    "if location == \"\":\n",
    "    custom_sql_prompt = custom_sql_prompt.replace(\"{day}\",day_today)\n",
    "else:\n",
    "    custom_sql_prompt = custom_sql_prompt.replace(\"{day}\",day_today).replace(\"None\",location)\n",
    "    \n",
    "print(custom_sql_prompt)"
   ]
  },
  {
   "cell_type": "code",
   "execution_count": 6,
   "metadata": {},
   "outputs": [],
   "source": [
    "from langchain.prompts import FewShotPromptTemplate\n",
    "from langchain.chains.sql_database.prompt import PROMPT_SUFFIX\n",
    "\n",
    "few_shot_prompt = FewShotPromptTemplate(\n",
    "    example_selector=example_selector,\n",
    "    example_prompt=example_query_prompt,\n",
    "    prefix= custom_sql_prompt, #change to custom prompt\n",
    "    suffix=PROMPT_SUFFIX, \n",
    "    input_variables=[\"input\", \"table_info\", \"top_k\"], #These variables are used in the prefix and suffix\n",
    ")"
   ]
  },
  {
   "cell_type": "code",
   "execution_count": 7,
   "metadata": {},
   "outputs": [],
   "source": [
    "# returning sql query\n",
    "# query_chain = SQLDatabaseChain.from_llm(llm, db, prompt=few_shot_prompt, use_query_checker=True, \n",
    "#                                         verbose=True, return_sql=True,)\n",
    "query_chain = SQLDatabaseChain.from_llm(llm, db, prompt=few_shot_prompt, return_sql=True)"
   ]
  },
  {
   "cell_type": "code",
   "execution_count": 8,
   "metadata": {},
   "outputs": [
    {
     "name": "stdout",
     "output_type": "stream",
     "text": [
      "SELECT COUNT(*) FROM dentists WHERE citytown LIKE '%caloocan%' OR province LIKE '%caloocan%' OR region LIKE '%caloocan%' AND Monday_start <= 10\n",
      "\n",
      "The number of dentists open at 10:00 am in Caloocan on Monday is 2.\n"
     ]
    }
   ],
   "source": [
    "query_result = query_chain.run(\"How many dentists are open at 10:00 am in Caloocan on Monday?\")\n",
    "print(query_result)"
   ]
  },
  {
   "cell_type": "code",
   "execution_count": 9,
   "metadata": {},
   "outputs": [
    {
     "name": "stdout",
     "output_type": "stream",
     "text": [
      "SELECT COUNT(*) FROM dentists WHERE citytown LIKE '%caloocan%' OR province LIKE '%caloocan%' OR region LIKE '%caloocan%' AND Monday_start <= 10\n"
     ]
    }
   ],
   "source": [
    "a = query_result.split(\"\\n\",1)[0]\n",
    "print(a.strip())"
   ]
  },
  {
   "cell_type": "code",
   "execution_count": 10,
   "metadata": {},
   "outputs": [
    {
     "name": "stdout",
     "output_type": "stream",
     "text": [
      "SELECT dentistname FROM dentists WHERE citytown LIKE '%manila%' or province LIKE '%manila%' or region LIKE '%manila%' AND Tuesday_start IS NOT NULL;\n",
      "\n",
      "Answer:\n",
      "\n",
      "1. AIDA MAITIM JALUAG\n",
      "2. ANGE LUMAWAG\n",
      "3. DENTAL WELLNESS STUDIO\n",
      "4. MARJORIE JOY LIM\n",
      "5. UNIT GD BURGUNDY WEST BAY TOWER\n",
      "\n",
      "The first result is the clinic with the name \"AIDA MAITIM JALUAG\". The second result is the clinic with the name \"ANGE LUMAWAG\". The third result is the clinic with the name \"DENTAL WELLNESS STUDIO\". The fourth result is the clinic with the name \"MARJORIE JOY LIM\". The fifth result is the clinic with the name \"UNIT GD BURGUNDY WEST BAY TOWER\".\n"
     ]
    }
   ],
   "source": [
    "query_result_2 = query_chain.run(\"Give me 5 clinics in Manila\")\n",
    "print(query_result_2)"
   ]
  },
  {
   "cell_type": "markdown",
   "metadata": {},
   "source": [
    "CREATING A FUNCTION TO CALL THE LANGCHAIN, QUERY THE DB AND RETURN THE RESULT"
   ]
  },
  {
   "cell_type": "code",
   "execution_count": 26,
   "metadata": {},
   "outputs": [],
   "source": [
    "dentist_db = 'dentist_test_db.sqlite'\n",
    "\n",
    "def query_using_llm(input, db):\n",
    "    sql_db = SQLDatabase.from_uri(f'sqlite:///{db}')\n",
    "    query_chain = SQLDatabaseChain.from_llm(llm, db=sql_db, prompt=few_shot_prompt, return_sql=True)\n",
    "    query_result = query_chain.run(input)\n",
    "    sql_query = query_result.split(\"\\n\",1)[0].strip()\n",
    "\n",
    "    conn = sqlite3.connect(db)\n",
    "    cur = conn.cursor()\n",
    "    try:\n",
    "        cur.execute(sql_query)\n",
    "        rows = cur.fetchall()\n",
    "        conn.close()\n",
    "        return rows\n",
    "        # for row in rows:\n",
    "        #     print(row)\n",
    "        #conn.close()\n",
    "    except:\n",
    "        return \"Error fetching. Try another query or try again later.\""
   ]
  },
  {
   "cell_type": "code",
   "execution_count": 28,
   "metadata": {},
   "outputs": [
    {
     "name": "stdout",
     "output_type": "stream",
     "text": [
      "[('AIDA MAITIM JALUAG',), ('ANGE LUMAWAG',), ('MARJORIE JOY LIM',), ('CONCEPCION PONCE PEÑAFLORIDA',), ('MARISSA LOMOTAN',), ('JACQUELYN SABADO',), ('LEILA PALMIERY PENASCOSAS',), ('MARIA SOLEDAD CORREA',), ('RAQUEL YANGCO',), ('RICHARD LIAO',), ('AZUCENA TAN',), ('AMY PUJALTE',), ('WILMA BACTAD JIMENEZ',), ('CZARINA DELA CRUZ ASTOR',), ('LEAH CRUZ                                                                          ',), ('GLENDA RESUELLO',), ('GUALBERTO TEJADA',), ('JOSHELLE DULA DEL CASTILLO',), ('KRISTINE NAVARRO',), ('ARTHUR GAWAINE CABREZA BARCELONA',), ('CHRISTINE MARIE BAYON GARA',), ('DEXTER LORENZO',), ('MARRIE LENE SY',), ('DEXTER LORENZO',), ('EILEEN LORENZO BAUTISTA',), ('MARIA MAYDA TABLANTE',), ('MARIA PAMELA SANTIAGO',), ('LILIBETH GALANG',), ('MARVI MALANAO',), ('SORAYA ANN ALMAZAR',), ('ALICE SAMANIEGO',), ('DR. KARIMA HASSAN TENGCO-CASTRO',), ('ARMIE KIRDLAPPI',), ('CARLO LUIS SANTOS',), ('MARISSA PANOPIO ATIENZA',), ('ALLAN BUELA\\n(Except Conduent Account - Intellicare)',), ('CARLO LUIS SANTOS',), ('EDRIC CASTILLO',), ('JANICE JOSE',), ('CHRISTINE AGUILAR ROSAS',), ('EDWINA PANGAN',), ('ELAINE SILVA BUENVIAJE',), ('EMILY HERCE',), ('GERALDINE ANDUIZA',), ('JASON JOHN DE VERA',), ('JEANETTE DIMAPILIS',), ('JOCELYN YAP BISQUERA',), ('JUAN VICENTE \"JV\" JAURIGUE JUAN VICENTE JV\" JAURIGUE\"',), ('LIZA ALEJAN',), ('MILAROSA SAMSON',), ('MYLA BAUTISTA',), ('NENNETTE SERRANO',), ('PAOLO JOEL GUTIERREZ',), ('RAQUEL YANGCO',), ('ROSE MIA SALAZAR',), ('NAYE EIZEL GUINTU',), ('SARA KATRINA LUNA',), ('MICHELLE NUQUI HERNANDEZ',), ('JONATHAN PATRICK SANTOS',), ('JAKE PAULO VILLARUEL',), ('CLAUDINE MAY REMO',), ('ABEGAIL BONGAT',), ('ARLENE HOLGADO',), ('CATHERINE TOLENTINO',), ('MICHAEL JOHN C. JAPZON',), ('KATHLYN CLARE VILLEGAS',), ('ALICE MENDOZA OYARDO',), ('CARLA CASTEJON FRANCISCO',), ('DARIELL DEVEZA BURCE',), ('ROSEMARY R. TAYLOR',), ('FRANCISCO JR. MARIANO',), ('JACQUELYN SABADO',), ('EVANGELINE T. VALENCERINA\\n(Intellicare Only)',), ('MARIA CRISTINA BANTING',), ('MYLENE DIAZ ANGELES',), ('CARMEN SANTILLAN / LESLIE BUENAVENTURA SAPLALA',), ('GRACE MASANGYA PELAEZ',), ('GUENEVERE UY',), ('MADONNA GARDE',), ('MARIANNE DIZON',), ('MARRIE LENE SY',), ('MARY ANN TAGLE HILARIO',), ('ZENAIDA FADUL',), ('CHIARA CUCIO',), ('JAY NORMAN AGUILAR',), ('JINNAH DUMASAL ABIT',), ('JOHN ROMERO\\n(Except tooth extraction)',), ('PETER PANDAN',), ('GRACE BROZAS',), ('RAMON CATRAL BERBANO',), ('ROWENA LANTIN ESGUERRA',), ('ALLAN BUELA\\n(Except Conduent Account - Intellicare)',), ('ANN VANESSA FLORENTO',), ('JOHN PATRICK SANTOS',), ('LILYBETH DE LAS ALAS CAVITEÑO',), ('ALMA LEA A. DEL ROSARIO',), ('EDELMIRA MENDOZA',), ('GLORILYN DE LEON BONDOC',), ('GUADALUPE CHAVEZ',), ('JANNICE MARTINEZ',), ('JOEY DOLENDO',), ('REINALYN ESTRADA',), ('CONSUELO VIGILAR',), ('JOSELITO MILLONADO\\n(Exclusive for Intellicare accounts only)',), ('KRISTINE OCTA',), ('LOLITA MATEO',), ('MARIUS MADRIGAL BALQUIEDRA',), ('RAQUEL ESPEJO',), ('RONALD MARCELLANA',), ('PAMELA MUPHY CONCIO',), ('ALAN SIA ONG',), ('ALBERT JASON MANIQUIS',), ('ALBERT JASON MANIQUIS',), ('AUDREY EVE DOCENA RUFINO',), ('AURA KRISTEL L. RAMON',), ('CAROLINA CALABROSO RAMOS',), ('GENEVIEVE MENDOZA BERCADEZ',), ('CHRISTOPHER ANG',), ('DAHLIA LACHICA',), ('DIANE ISABEL SELVIDO',), ('ELAINE SILVA BUENVIAJE',), ('AURORA C. VILLANUEVA',), ('SHARON MAY ARNALDO',), ('ERNEST RAUL JR. RACELA',), ('FLORENCE ANDRES DE VENECIA',), ('JACKIE LOU DANAO AH',), ('MARIA JAILA D. SANTOS',), ('GLENDA A. BAEZ',), ('JAKE PAULO VILLARUEL',), ('JEANETTE PALLORAN',), ('JENESSEY RANCES',), ('KIM LLARENA',), ('MABINI MULLES',), ('MARIA CRISTINA INSERTO',), ('MARIA CRISTINA V. VILLAFUERTE',), ('MARIA VENA MARTIRES',), ('MARISOL NEPOMUCENO',), ('MARISSA LOMOTAN',), ('MARY ANNE ABRAHAM ROSIT',), ('PAOLO ANTONIO DE JESUS',), ('MARY JOY BAUTISTA',), ('MELISSA GONZALES',), ('MERYL BARBRA FABITO DE JESUS',), ('MERYL BARBRA FABITO DE JESUS',), ('MIA MONIQUE JOVEN',), ('MONICA GAMO',), ('NOEMI P. RAMOS',), ('ROBERTO CANIVEL ',), ('JOSEFINA CARDENAS VILLADOLID',), ('RHEA MYLA POCA',), ('RUBINETTE LAMADOR ALBANO',), ('SANTOS JR. SARMIENTO',), ('SHEILA GALENZOGA',), ('JAMIE DE VERA',), ('WILMA DEL VALLE',), ('BELSIE DELOS SANTOS',), ('CECILLE DELA PAZ VALENZUELA',), ('JOCELYN RIOFLORIDO',), ('MILAROSA SAMSON',), ('AGNES MARIATEGUE',), ('ANNA CHRISTINA P. CAPICOY',), ('ANNETTE KRISTINE GUIAO SEE',), ('ELKE AVELINA ESTEPA',), ('PAUL ANTHONY ACEBU',), ('PAUL ANTHONY ACEBU',), ('ROCHELLE MAMMUAD',), ('DAISY MENDOZA',), ('FELICITO DIZON',), ('JOHN CALVIN ABASOLO',), ('LENALEE CHENG KING',), ('MA. DIVINAGRACIA SANTOS',), ('JAKE PAULO VILLARUEL',)]\n"
     ]
    }
   ],
   "source": [
    "g = query_using_llm(\"Give me 5 clinics in Manila\", dentist_db)\n",
    "print(g)"
   ]
  },
  {
   "cell_type": "code",
   "execution_count": 29,
   "metadata": {},
   "outputs": [
    {
     "name": "stdout",
     "output_type": "stream",
     "text": [
      "[(28,)]\n"
     ]
    }
   ],
   "source": [
    "h = query_using_llm(\"How many clinics are open on Monday?\",dentist_db)\n",
    "print(h)"
   ]
  }
 ],
 "metadata": {
  "kernelspec": {
   "display_name": "gpt_env",
   "language": "python",
   "name": "python3"
  },
  "language_info": {
   "codemirror_mode": {
    "name": "ipython",
    "version": 3
   },
   "file_extension": ".py",
   "mimetype": "text/x-python",
   "name": "python",
   "nbconvert_exporter": "python",
   "pygments_lexer": "ipython3",
   "version": "3.9.5"
  }
 },
 "nbformat": 4,
 "nbformat_minor": 2
}
